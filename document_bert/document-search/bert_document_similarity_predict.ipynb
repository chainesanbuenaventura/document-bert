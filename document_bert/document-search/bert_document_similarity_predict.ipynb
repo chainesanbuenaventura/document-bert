{
 "cells": [
  {
   "cell_type": "code",
   "execution_count": 1,
   "metadata": {},
   "outputs": [],
   "source": [
    "import pandas as pd\n",
    "import re\n",
    "import sys\n",
    "sys.path.append(\"../\")\n",
    "from clean import TextCleaner\n",
    "\n",
    "from transformers import BertPreTrainedModel, BertConfig, BertModel\n",
    "from transformers import BertTokenizer\n",
    "import torch\n",
    "import math\n",
    "import numpy as np\n",
    "from patent_utils import *\n",
    "import gc\n",
    "from encode import BERTEncoder\n",
    "from BERTSimilarity import DocumentBert, BERTSimilarityTrainer, predict\n",
    "from torchviz import make_dot"
   ]
  },
  {
   "cell_type": "code",
   "execution_count": 2,
   "metadata": {},
   "outputs": [],
   "source": [
    "# Load the dataset into a pandas dataframe.\n",
    "df = pd.read_csv(\"../../data/patent-tsd-matches-11102020.csv\")\n",
    "\n",
    "patent_documents, patent_test = df.patentClaim1.values[:int(0.9 * len(df))], df.patentClaim1.values[int(0.9 * len(df)):]\n",
    "tsd_documents, tsd_test = df.TSDSection.values[:int(0.9 * len(df))], df.TSDSection.values[int(0.9 * len(df)):]\n",
    "labels, labels_test = df.match.values[:int(0.9 * len(df))], df.match.values[int(0.9 * len(df)):]"
   ]
  },
  {
   "cell_type": "code",
   "execution_count": null,
   "metadata": {},
   "outputs": [],
   "source": [
    "model = torch.load('BERTsimilaritymodel.pth')\n",
    "\n",
    "predict(model, patent_claims)\n",
    "\n",
    "patent_representations = patent_representations.to('cpu')\n",
    "tsd_representations = tsd_representations.to('cpu')\n",
    "model.to('cpu')\n",
    "\n",
    "similarity_scores = []\n",
    "batch_size = 4\n",
    "gc.collect()\n",
    "torch.cuda.empty_cache()\n",
    "\n",
    "for i in range(0, patent_representations.shape[0], batch_size):\n",
    "\n",
    "    batch_patent_tensors = patent_representations[i:i + batch_size].to(device='cpu')\n",
    "    batch_tsd_tensors = tsd_representations[i:i + batch_size].to(device='cpu')\n",
    "    batch_predictions = model(batch_patent_tensors,\n",
    "                              batch_tsd_tensors, \n",
    "                              device='cpu'\n",
    "                             )\n",
    "    similarity_scores.extend(batch_predictions)\n",
    "    \n",
    "section_scores_dict = {}\n",
    "phrases_scores_dict = {}\n",
    "\n",
    "for doc_index in tsd_dict.keys():\n",
    "    section_scores_dict[doc_index] = predictions[tsd_dict[doc_index]].mean()\n",
    "    phrases_scores_dict[doc_index] = predictions[tsd_dict[doc_index]].mean()"
   ]
  },
  {
   "cell_type": "code",
   "execution_count": 5,
   "metadata": {},
   "outputs": [
    {
     "name": "stderr",
     "output_type": "stream",
     "text": [
      "C:\\ProgramData\\Anaconda3\\envs\\py37cuda10\\lib\\site-packages\\torch\\nn\\functional.py:1639: UserWarning: nn.functional.sigmoid is deprecated. Use torch.sigmoid instead.\n",
      "  warnings.warn(\"nn.functional.sigmoid is deprecated. Use torch.sigmoid instead.\")\n"
     ]
    }
   ],
   "source": [
    "batch_predictions = model(batch_patent_tensors,\n",
    "                              batch_tsd_tensors, \n",
    "                              device='cpu'\n",
    "                             )"
   ]
  },
  {
   "cell_type": "code",
   "execution_count": 6,
   "metadata": {},
   "outputs": [
    {
     "data": {
      "text/plain": [
       "tensor([[0.2526],\n",
       "        [0.9898],\n",
       "        [0.0180],\n",
       "        [0.7873]], grad_fn=<SigmoidBackward>)"
      ]
     },
     "execution_count": 6,
     "metadata": {},
     "output_type": "execute_result"
    }
   ],
   "source": [
    "batch_predictions"
   ]
  }
 ],
 "metadata": {
  "kernelspec": {
   "display_name": "py37cuda10",
   "language": "python",
   "name": "py37cuda10"
  },
  "language_info": {
   "codemirror_mode": {
    "name": "ipython",
    "version": 3
   },
   "file_extension": ".py",
   "mimetype": "text/x-python",
   "name": "python",
   "nbconvert_exporter": "python",
   "pygments_lexer": "ipython3",
   "version": "3.7.9"
  }
 },
 "nbformat": 4,
 "nbformat_minor": 4
}
